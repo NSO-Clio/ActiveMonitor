{
 "cells": [
  {
   "cell_type": "markdown",
   "id": "8ae459cd",
   "metadata": {},
   "source": [
    "# Обучение моделей временных рядов (Prophet)\n",
    "\n",
    "**Цель:** Создать и сохранить две специализированные модели Prophet для нашего AI-агента.\n",
    "\n",
    "## Введение: Почему Prophet?\n",
    "\n",
    "Статические пороги (`if response_time > 500ms`) неэффективны, поскольку они не учитывают естественные циклы нагрузки системы (день/ночь, будни/выходные). Это приводит к ложным тревогам в пиковые часы и пропущенным аномалиям в периоды затишья.\n",
    "\n",
    "**Prophet** — это библиотека от Facebook для прогнозирования временных рядов, которая автоматически моделирует эти сезонные компоненты. Она позволяет нам создать динамический \"коридор нормы\", специфичный для каждого момента времени.\n",
    "\n",
    "Мы создадим две модели:\n",
    "1.  **`anomaly_detector.pkl`**: Упрощенная, сверхчувствительная модель для надежного обнаружения резких выбросов в прошлом.\n",
    "2.  **`failure_predictor.pkl`**: Более сложная модель с учетом сезонности для точного прогнозирования будущих сбоев.\n"
   ]
  },
  {
   "cell_type": "markdown",
   "id": "20b1caae",
   "metadata": {},
   "source": [
    "## Шаг 1: Подготовка и генерация данных\n",
    "\n",
    "В реальной MLOps-системе на этом шаге мы бы подключились к продакшен-базе данных и выгрузили метрики за последний месяц. Для демонстрации мы сгенерируем реалистичный набор данных."
   ]
  },
  {
   "cell_type": "code",
   "execution_count": 1,
   "id": "44d73def",
   "metadata": {},
   "outputs": [
    {
     "name": "stderr",
     "output_type": "stream",
     "text": [
      "C:\\Users\\kosty\\AppData\\Local\\Packages\\PythonSoftwareFoundation.Python.3.12_qbz5n2kfra8p0\\LocalCache\\local-packages\\Python312\\site-packages\\tqdm\\auto.py:21: TqdmWarning: IProgress not found. Please update jupyter and ipywidgets. See https://ipywidgets.readthedocs.io/en/stable/user_install.html\n",
      "  from .autonotebook import tqdm as notebook_tqdm\n"
     ]
    },
    {
     "name": "stdout",
     "output_type": "stream",
     "text": [
      "Директория 'trained_models' уже существует.\n"
     ]
    }
   ],
   "source": [
    "import pandas as pd\n",
    "import pickle\n",
    "from prophet import Prophet\n",
    "import os\n",
    "import warnings\n",
    "\n",
    "warnings.filterwarnings('ignore', category=FutureWarning)\n",
    "\n",
    "# Определяем директорию для сохранения готовых моделей\n",
    "MODELS_DIR = \"trained_models\"\n",
    "if not os.path.exists(MODELS_DIR):\n",
    "    os.makedirs(MODELS_DIR)\n",
    "    print(f\"Директория '{MODELS_DIR}' создана.\")\n",
    "else:\n",
    "    print(f\"Директория '{MODELS_DIR}' уже существует.\")"
   ]
  },
  {
   "cell_type": "code",
   "execution_count": 2,
   "id": "bc905688",
   "metadata": {},
   "outputs": [
    {
     "name": "stdout",
     "output_type": "stream",
     "text": [
      "Генерация исторических данных для Prophet...\n",
      "Обучающие данные для Prophet готовы. Размер:  (43200, 2)\n"
     ]
    },
    {
     "data": {
      "text/html": [
       "<div>\n",
       "<style scoped>\n",
       "    .dataframe tbody tr th:only-of-type {\n",
       "        vertical-align: middle;\n",
       "    }\n",
       "\n",
       "    .dataframe tbody tr th {\n",
       "        vertical-align: top;\n",
       "    }\n",
       "\n",
       "    .dataframe thead th {\n",
       "        text-align: right;\n",
       "    }\n",
       "</style>\n",
       "<table border=\"1\" class=\"dataframe\">\n",
       "  <thead>\n",
       "    <tr style=\"text-align: right;\">\n",
       "      <th></th>\n",
       "      <th>ds</th>\n",
       "      <th>y</th>\n",
       "    </tr>\n",
       "  </thead>\n",
       "  <tbody>\n",
       "    <tr>\n",
       "      <th>43195</th>\n",
       "      <td>2025-09-18 23:55:00</td>\n",
       "      <td>398.5</td>\n",
       "    </tr>\n",
       "    <tr>\n",
       "      <th>43196</th>\n",
       "      <td>2025-09-18 23:56:00</td>\n",
       "      <td>400.0</td>\n",
       "    </tr>\n",
       "    <tr>\n",
       "      <th>43197</th>\n",
       "      <td>2025-09-18 23:57:00</td>\n",
       "      <td>401.5</td>\n",
       "    </tr>\n",
       "    <tr>\n",
       "      <th>43198</th>\n",
       "      <td>2025-09-18 23:58:00</td>\n",
       "      <td>403.0</td>\n",
       "    </tr>\n",
       "    <tr>\n",
       "      <th>43199</th>\n",
       "      <td>2025-09-18 23:59:00</td>\n",
       "      <td>404.5</td>\n",
       "    </tr>\n",
       "  </tbody>\n",
       "</table>\n",
       "</div>"
      ],
      "text/plain": [
       "                       ds      y\n",
       "43195 2025-09-18 23:55:00  398.5\n",
       "43196 2025-09-18 23:56:00  400.0\n",
       "43197 2025-09-18 23:57:00  401.5\n",
       "43198 2025-09-18 23:58:00  403.0\n",
       "43199 2025-09-18 23:59:00  404.5"
      ]
     },
     "execution_count": 2,
     "metadata": {},
     "output_type": "execute_result"
    }
   ],
   "source": [
    "print(\"Генерация исторических данных для Prophet...\")\n",
    "# Симулируем 30 дней данных с поминутной детализацией\n",
    "history_dates = pd.to_datetime(pd.date_range('2025-08-20', periods=1440 * 30, freq='T'))\n",
    "# Симулируем суточные и недельные циклы\n",
    "history_metrics = [150 + i % 144 * 1.5 + (i // (1440*7)) * 10 for i in range(len(history_dates))]\n",
    "metrics_df = pd.DataFrame({'timestamp': history_dates, 'response_time_ms': history_metrics})\n",
    "\n",
    "# Prophet требует специфические названия колонок: 'ds' для даты и 'y' для значения\n",
    "prophet_df = metrics_df[['timestamp', 'response_time_ms']].rename(\n",
    "    columns={'timestamp': 'ds', 'response_time_ms': 'y'}\n",
    ")\n",
    "\n",
    "print(\"Обучающие данные для Prophet готовы. Размер: \", prophet_df.shape)\n",
    "prophet_df.tail()"
   ]
  },
  {
   "cell_type": "markdown",
   "id": "0fd9c58b",
   "metadata": {},
   "source": [
    "## Шаг 2: Обучение модели для детекции аномалий (`anomaly_detector.pkl`)\n",
    "\n",
    "Эта модель используется для **реактивного** анализа. Ее задача — с максимальной надежностью находить резкие выбросы в прошлом. Для этого мы убираем все сложные сезонные компоненты, которые могут \"смазать\" картину на коротких интервалах, и заставляем модель строить простую линейную регрессию."
   ]
  },
  {
   "cell_type": "code",
   "execution_count": 3,
   "id": "1b335cf3",
   "metadata": {},
   "outputs": [
    {
     "name": "stdout",
     "output_type": "stream",
     "text": [
      "Обучение модели 'anomaly_detector.pkl'...\n"
     ]
    },
    {
     "name": "stderr",
     "output_type": "stream",
     "text": [
      "01:19:42 - cmdstanpy - INFO - Chain [1] start processing\n",
      "01:19:51 - cmdstanpy - INFO - Chain [1] done processing\n"
     ]
    },
    {
     "name": "stdout",
     "output_type": "stream",
     "text": [
      " -> Модель для детекции аномалий успешно сохранена в 'trained_models\\anomaly_detector.pkl'\n"
     ]
    }
   ],
   "source": [
    "print(\"Обучение модели 'anomaly_detector.pkl'...\")\n",
    "model_anomalies = Prophet(\n",
    "    interval_width=0.99,          # Очень широкий доверительный интервал\n",
    "    growth='linear',              # Простой линейный рост\n",
    "    daily_seasonality=False,      # Отключаем все, что может внести шум в тестах\n",
    "    weekly_seasonality=False,\n",
    "    yearly_seasonality=False,\n",
    "    changepoints=None             # Запрещаем искать точки излома тренда\n",
    ")\n",
    "model_anomalies.fit(prophet_df)\n",
    "\n",
    "# Сериализация с использованием стандартной библиотеки pickle\n",
    "model_path = os.path.join(MODELS_DIR, \"anomaly_detector.pkl\")\n",
    "with open(model_path, 'wb') as f:\n",
    "    pickle.dump(model_anomalies, f)\n",
    "\n",
    "print(f\" -> Модель для детекции аномалий успешно сохранена в '{model_path}'\")"
   ]
  },
  {
   "cell_type": "markdown",
   "id": "7a316c52",
   "metadata": {},
   "source": [
    "## Шаг 3: Обучение модели для прогнозирования сбоев (`failure_predictor.pkl`)\n",
    "\n",
    "Эта модель используется для **проактивного** анализа. Ее задача — заглянуть в будущее. Для этого, наоборот, мы включаем все сезонные компоненты, чтобы модель могла построить максимально точный и реалистичный прогноз."
   ]
  },
  {
   "cell_type": "code",
   "execution_count": 4,
   "id": "695fc179",
   "metadata": {},
   "outputs": [
    {
     "name": "stdout",
     "output_type": "stream",
     "text": [
      "Обучение модели 'failure_predictor.pkl'...\n"
     ]
    },
    {
     "name": "stderr",
     "output_type": "stream",
     "text": [
      "01:19:53 - cmdstanpy - INFO - Chain [1] start processing\n",
      "01:20:03 - cmdstanpy - INFO - Chain [1] done processing\n"
     ]
    },
    {
     "name": "stdout",
     "output_type": "stream",
     "text": [
      " -> Модель для прогнозирования сбоев успешно сохранена в 'trained_models\\failure_predictor.pkl'\n"
     ]
    }
   ],
   "source": [
    "print(\"Обучение модели 'failure_predictor.pkl'...\")\n",
    "model_potential_failures = Prophet(\n",
    "    interval_width=0.95,          # Стандартный доверительный интервал\n",
    "    daily_seasonality=True,       # Включаем учет суточных циклов\n",
    "    weekly_seasonality=True,      # Включаем учет недельных циклов\n",
    "    changepoint_prior_scale=0.05  # Стандартная чувствительность к изменениям тренда\n",
    ")\n",
    "model_potential_failures.fit(prophet_df)\n",
    "\n",
    "# Сериализация с использованием pickle\n",
    "model_path = os.path.join(MODELS_DIR, \"failure_predictor.pkl\")\n",
    "with open(model_path, 'wb') as f:\n",
    "    pickle.dump(model_potential_failures, f)\n",
    "\n",
    "print(f\" -> Модель для прогнозирования сбоев успешно сохранена в '{model_path}'\")"
   ]
  },
  {
   "cell_type": "markdown",
   "id": "b8e9ce5f",
   "metadata": {},
   "source": [
    "## Заключение\n",
    "\n",
    "УРАА!"
   ]
  }
 ],
 "metadata": {
  "kernelspec": {
   "display_name": "Python 3",
   "language": "python",
   "name": "python3"
  },
  "language_info": {
   "codemirror_mode": {
    "name": "ipython",
    "version": 3
   },
   "file_extension": ".py",
   "mimetype": "text/x-python",
   "name": "python",
   "nbconvert_exporter": "python",
   "pygments_lexer": "ipython3",
   "version": "3.12.10"
  }
 },
 "nbformat": 4,
 "nbformat_minor": 5
}
